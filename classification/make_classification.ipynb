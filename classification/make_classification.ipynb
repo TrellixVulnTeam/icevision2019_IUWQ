{
 "cells": [
  {
   "cell_type": "code",
   "execution_count": 1,
   "metadata": {},
   "outputs": [],
   "source": [
    "from glob import glob\n",
    "from collections import Counter\n",
    "import pandas as pd\n",
    "import cv2\n",
    "import os\n",
    "import numpy as np\n",
    "from tqdm import tqdm\n",
    "from functools import partial\n",
    "from joblib import Parallel, delayed\n",
    "import sys\n",
    "\n",
    "\n",
    "datasets = ['ice', 'rtsd']\n",
    "val_folders = ['2018-02-16_1515_left', '2018-03-16_1424_left', '2018-03-23_1352_right']\n",
    "\n",
    "\n",
    "def process_path(tpath, dataset):\n",
    "    start = tpath.find('annotations') + len('annotations') + 1\n",
    "    task = os.path.join(dataset, os.path.splitext(tpath[start:])[0])\n",
    "    \n",
    "    \n",
    "    t = pd.read_csv(tpath, dtype=str, sep='\\t')\n",
    "    ext = t.ext[0] if 'ext' in t else 'jpg'\n",
    "    \n",
    "    impath = os.path.join(dataset, 'images', tpath[start:].replace('.tsv', '.' + ext))\n",
    "    if not os.path.exists(impath):\n",
    "        print(impath)\n",
    "        sys.stdout.flush()\n",
    "        1/0\n",
    "    img = cv2.imread(impath)\n",
    "    folder = 'val' if impath.split('/')[-2] in val_folders else 'train'\n",
    "    \n",
    "    for _, row in t.iterrows():\n",
    "        try:\n",
    "            class_name = '.'.join(row['class'].split('.')[:2])\n",
    "        except AttributeError:\n",
    "            class_name = 'other'\n",
    "        xtl, ytl, xbr, ybr = map(lambda x: int(.5+float(x)), (row.xtl, row.ytl, row.xbr, row.ybr))\n",
    "        sample = img[ytl:ybr,xtl:xbr]\n",
    "        fname = 'classification_data/{}/{}/{}.jpg'.format(folder, class_name, np.random.randint(0,1000000000))\n",
    "        os.makedirs(os.path.dirname(fname), exist_ok=True)\n",
    "        cv2.imwrite(fname, sample)\n",
    "        \n",
    "        w = np.random.randint(21, 64)\n",
    "        h = w + np.random.randint(-int(.5 * w), +int(0.5*w))\n",
    "        xtl = np.random.randint(0,img.shape[1]-w-1)\n",
    "        ytl = np.random.randint(0, img.shape[0]-h-1)\n",
    "        other = img[ytl:ytl+h,xtl:xtl+w]\n",
    "        if other.shape[0] ==0 or other.shape[1] == 0:\n",
    "            print(w, h, xtl, ytl, img.shape)\n",
    "            sys.stdout.flush()\n",
    "            1/0\n",
    "        fname = 'classification_data/{}/{}/{}.jpg'.format(folder, 'other', np.random.randint(0,1000000000))\n",
    "        os.makedirs(os.path.dirname(fname), exist_ok=True)\n",
    "        cv2.imwrite(fname, other)\n",
    "\n",
    "def gather_examples(dataset):\n",
    "    prefix = f'/media/grisha/hdd/icevision/{dataset}'\n",
    "    Parallel(n_jobs=13)(delayed(partial(process_path, dataset=dataset))(p) for p in tqdm(glob(os.path.join(prefix, '**/annotations/**/*.tsv'), recursive=True)))\n",
    "#     for tpath in glob(os.path.join(prefix, 'annotations/**/*.tsv'), recursive=True):\n",
    "#         process_path(tpath, dataset)\n",
    "#         print(tpath)\n",
    "#         break"
   ]
  },
  {
   "cell_type": "code",
   "execution_count": 2,
   "metadata": {},
   "outputs": [
    {
     "name": "stderr",
     "output_type": "stream",
     "text": [
      "  5%|▍         | 324/6787 [00:01<00:32, 197.28it/s]/home/grisha/anaconda3/lib/python3.6/site-packages/joblib/externals/loky/process_executor.py:706: UserWarning: A worker stopped while some jobs were given to the executor. This can be caused by a too short worker timeout or by a memory leak.\n",
      "  \"timeout or by a memory leak.\", UserWarning\n",
      "100%|██████████| 6787/6787 [00:36<00:00, 183.47it/s]\n"
     ]
    }
   ],
   "source": [
    "gather_examples('ice')"
   ]
  },
  {
   "cell_type": "code",
   "execution_count": 3,
   "metadata": {},
   "outputs": [
    {
     "name": "stderr",
     "output_type": "stream",
     "text": [
      "100%|██████████| 59188/59188 [01:07<00:00, 882.19it/s]\n"
     ]
    }
   ],
   "source": [
    "gather_examples('RTSD')"
   ]
  },
  {
   "cell_type": "code",
   "execution_count": 4,
   "metadata": {},
   "outputs": [],
   "source": [
    "from shutil import move, rmtree\n",
    "for folder in glob(\"classification_data/train/*\"):\n",
    "    valfolder = folder.replace('train', 'val')\n",
    "    os.makedirs(valfolder, exist_ok=True)\n",
    "    \n",
    "    if len(glob(os.path.join(valfolder, '*'))) == 0:\n",
    "        train_imgs = glob(os.path.join(folder, '*'))\n",
    "        if len(train_imgs) < 5:\n",
    "            rmtree(folder)\n",
    "            rmtree(valfolder)\n",
    "            continue\n",
    "        np.random.shuffle(train_imgs)\n",
    "        to_take = int(max(1, 0.05*len(train_imgs)))\n",
    "        for path in train_imgs[:to_take]:\n",
    "#             print(path)\n",
    "#             print(os.path.basename(path.replace('train', 'val')))\n",
    "            os.makedirs(os.path.dirname(path.replace('train', 'val')), exist_ok=True)\n",
    "            move(path, path.replace('train', 'val'))"
   ]
  },
  {
   "cell_type": "code",
   "execution_count": 5,
   "metadata": {},
   "outputs": [
    {
     "name": "stdout",
     "output_type": "stream",
     "text": [
      "classification_data/val/1.3\n",
      "classification_data/val/6.18\n",
      "classification_data/val/6.12\n"
     ]
    }
   ],
   "source": [
    "for folder in glob(\"classification_data/val/*\"):\n",
    "    trainfolder = folder.replace('val', 'train')\n",
    "    \n",
    "    if not os.path.exists(trainfolder):\n",
    "        rmtree(folder)\n",
    "        print(folder)"
   ]
  }
 ],
 "metadata": {
  "kernelspec": {
   "display_name": "Python 3",
   "language": "python",
   "name": "python3"
  },
  "language_info": {
   "codemirror_mode": {
    "name": "ipython",
    "version": 3
   },
   "file_extension": ".py",
   "mimetype": "text/x-python",
   "name": "python",
   "nbconvert_exporter": "python",
   "pygments_lexer": "ipython3",
   "version": "3.6.5"
  }
 },
 "nbformat": 4,
 "nbformat_minor": 2
}
